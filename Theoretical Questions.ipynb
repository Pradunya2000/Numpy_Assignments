{
 "cells": [
  {
   "cell_type": "markdown",
   "id": "70a1e315-6f0c-47fd-958d-00f8b40e4d3f",
   "metadata": {
    "tags": []
   },
   "source": [
    "##### Theoretical Questions:"
   ]
  },
  {
   "cell_type": "markdown",
   "id": "e4b2dd21-028c-44c3-9483-2579a83cfaac",
   "metadata": {
    "tags": []
   },
   "source": [
    "##### 1. Explain the purpose and advantages of NumPy in scientific computing and data analysis. How does it enhance Python's capabilities for numerical operations?"
   ]
  },
  {
   "cell_type": "code",
   "execution_count": null,
   "id": "7f1c06c7-4d9f-4465-a6ea-9a161450d518",
   "metadata": {},
   "outputs": [],
   "source": [
    "# <!-- NumPy, short for Numerical Python, is a powerful library in Python that provides support for large, multi-dimensional arrays and matrices, along with a collection of mathematical functions to operate on these arrays. It plays a crucial role in scientific computing and data analysis due to several key features:\n",
    "\n",
    "# Purpose of NumPy:\n",
    "# Efficient Handling of Arrays and Matrices:\n",
    "\n",
    "# NumPy introduces the ndarray object, which is a fast, flexible, and memory-efficient array that can handle large datasets more effectively than Python's built-in lists.\n",
    "# It supports multi-dimensional arrays, making it easier to perform complex operations on large datasets.\n",
    "# Mathematical Functions:\n",
    "\n",
    "# It provides a wide range of mathematical functions, such as linear algebra operations, statistical computations, and random number generation, essential for scientific and data analysis tasks.\n",
    "# Vectorization:\n",
    "\n",
    "# NumPy allows operations on entire arrays without the need for explicit loops, making code more concise and faster.\n",
    "# Interoperability with Other Libraries:\n",
    "\n",
    "# It serves as the foundation for other scientific computing libraries like SciPy, Pandas, and Matplotlib. These libraries use NumPy arrays as their core data structure, enabling seamless integration. -->\n",
    "\n",
    "\n",
    "# <!-- Advantages of NumPy:\n",
    "# Performance:\n",
    "\n",
    "# Speed: NumPy is implemented in C, which makes it much faster than standard Python for numerical operations. Operations on NumPy arrays are optimized and run faster compared to equivalent operations on Python lists.\n",
    "# Memory Efficiency: NumPy arrays are more memory-efficient than Python lists due to their homogeneous nature (all elements are of the same data type).\n",
    "# Convenience:\n",
    "\n",
    "# Broadcasting: NumPy's broadcasting feature allows arithmetic operations to be performed on arrays of different shapes, simplifying code and avoiding the need for explicit loops.\n",
    "# Slicing and Indexing: NumPy provides powerful ways to index and slice arrays, making it easier to manipulate data.\n",
    "# Extensive Functionality:\n",
    "\n",
    "# Mathematical Tools: NumPy provides a comprehensive set of tools for performing mathematical operations, including element-wise operations, matrix multiplication, statistical analysis, and Fourier transforms.\n",
    "# Handling Missing Data: NumPy can efficiently handle missing data and perform operations while ignoring missing values, which is crucial in data analysis.\n",
    "# Scalability:\n",
    "\n",
    "# NumPy can handle very large datasets that don't fit into memory by using memory-mapped files, making it suitable for big data applications. -->"
   ]
  },
  {
   "cell_type": "markdown",
   "id": "2dc9b029-c270-4883-a330-2f4cac03aba8",
   "metadata": {
    "tags": []
   },
   "source": [
    "##### 2. Compare and contrast np.mean() and np.average() functions in NumPy. When would you use one over the other?"
   ]
  },
  {
   "cell_type": "code",
   "execution_count": null,
   "id": "d973bf4d-5e38-4b73-aa8f-3b0addd6b0be",
   "metadata": {},
   "outputs": [],
   "source": [
    "# 1. np.mean()\n",
    "# Purpose:\n",
    "# np.mean() calculates the arithmetic mean (average) of the elements along the specified axis. The mean is simply the sum of all elements divided by the number of elements.\n",
    "# Syntax:\n",
    "# python\n",
    "\n",
    "np.mean(a, axis=None, dtype=None, out=None, keepdims=False)\n",
    "\n",
    "# 2. np.average()\n",
    "# Purpose:\n",
    "# np.average() computes the weighted average of the elements along the specified axis. The weighted average takes into account the weights assigned to each element, which can affect the result.\n",
    "# Syntax:\n",
    "# python\n",
    "np.average(a, axis=None, weights=None, returned=False)\n"
   ]
  },
  {
   "cell_type": "markdown",
   "id": "1b25b527-ceac-4bd6-a4cd-528d2a80c678",
   "metadata": {
    "tags": []
   },
   "source": [
    "##### 3. Describe the methods for reversing a NumPy array along different axes. Provide examples for 1D and 2D arrays."
   ]
  },
  {
   "cell_type": "code",
   "execution_count": 8,
   "id": "5e3f9240-e997-4ee2-9718-4fd80534d25f",
   "metadata": {},
   "outputs": [
    {
     "name": "stdout",
     "output_type": "stream",
     "text": [
      "[5 4 3 2 1]\n",
      "Reversed Entire Array:\n",
      "[[9 8 7]\n",
      " [6 5 4]\n",
      " [3 2 1]]\n",
      "\n",
      "Reversed Rows:\n",
      "[[7 8 9]\n",
      " [4 5 6]\n",
      " [1 2 3]]\n",
      "\n",
      "Reversed Columns:\n",
      "[[3 2 1]\n",
      " [6 5 4]\n",
      " [9 8 7]]\n",
      "\n",
      "Flipped Rows using np.flip:\n",
      "[[7 8 9]\n",
      " [4 5 6]\n",
      " [1 2 3]]\n",
      "\n",
      "Flipped Columns using np.flip:\n",
      "[[3 2 1]\n",
      " [6 5 4]\n",
      " [9 8 7]]\n"
     ]
    }
   ],
   "source": [
    "# Reversing a NumPy array means rearranging its elements in the opposite order along a specified axis. NumPy provides several ways to reverse arrays, and you can apply these methods to 1D, 2D, or even higher-dimensional arrays.\n",
    "\n",
    "# 1. Reversing a 1D Array\n",
    "# For a 1D array, reversing the array is straightforward. You can use slicing to reverse the array.\n",
    "import numpy as np\n",
    "\n",
    "# 1D Array\n",
    "arr_1d = np.array([1, 2, 3, 4, 5])\n",
    "reversed_arr_1d = arr_1d[::-1]\n",
    "\n",
    "print(reversed_arr_1d)  # Output: [5 4 3 2 1]\n",
    "\n",
    "# 2. Reversing a 2D Array\n",
    "# For a 2D array, you can reverse the array along different axes (rows or columns).\n",
    "\n",
    "arr_2d = np.array([[1, 2, 3], [4, 5, 6], [7, 8, 9]])\n",
    "\n",
    "reversed_entire = arr_2d[::-1, ::-1]\n",
    "print(\"Reversed Entire Array:\")\n",
    "print(reversed_entire)\n",
    "\n",
    "reversed_rows = arr_2d[::-1, :]\n",
    "print(\"\\nReversed Rows:\")\n",
    "print(reversed_rows)\n",
    "\n",
    "reversed_columns = arr_2d[:, ::-1]\n",
    "print(\"\\nReversed Columns:\")\n",
    "print(reversed_columns)\n",
    "\n",
    "flipped_rows = np.flip(arr_2d, axis=0)\n",
    "flipped_columns = np.flip(arr_2d, axis=1)\n",
    "\n",
    "print(\"\\nFlipped Rows using np.flip:\")\n",
    "print(flipped_rows)\n",
    "\n",
    "print(\"\\nFlipped Columns using np.flip:\")\n",
    "print(flipped_columns)\n"
   ]
  },
  {
   "cell_type": "markdown",
   "id": "de440b20-8e2e-46de-82b2-7a7e7be8b3a1",
   "metadata": {},
   "source": [
    "##### 4. How can you determine the data type of elements in a NumPy array? Discuss the importance of data types in memory management and performance."
   ]
  },
  {
   "cell_type": "code",
   "execution_count": 9,
   "id": "50c82cbc-a61f-4d9f-86d0-f4f70a7ec810",
   "metadata": {},
   "outputs": [
    {
     "name": "stdout",
     "output_type": "stream",
     "text": [
      "int64\n"
     ]
    }
   ],
   "source": [
    "#To determine the data type of elements in a NumPy array, you can use the dtype attribute. Here’s an example:\n",
    "\n",
    "arr = np.array([1, 2, 3, 4, 5])\n",
    "\n",
    "# Check the data type of the array elements\n",
    "print(arr.dtype)\n",
    "\n",
    "# Importance of Data Types in Memory Management and Performance\n",
    "# Data types play a crucial role in memory management and performance for several reasons:\n",
    "\n",
    "# Memory Allocation: Different data types require different amounts of memory. For example, an int32 type uses 4 bytes, while a float64 type uses 8 bytes. Efficient use of data types ensures that memory is allocated appropriately, preventing wastage.\n",
    "# Performance Optimization: Operations on smaller data types are generally faster because they require less memory bandwidth and can be processed more quickly by the CPU. For instance, using int8 instead of int64 for small integers can significantly speed up computations.\n",
    "# Data Integrity: Using the correct data type helps maintain data integrity. For example, using an integer type for counting items ensures that fractional values are not mistakenly stored.\n",
    "# Error Detection: Specifying data types can help catch errors early in the development process. For example, trying to store a string in an integer array will raise an error, alerting you to potential issues in your code.\n",
    "# Understanding and utilizing appropriate data types is essential for writing efficient and reliable programs, especially in environments with limited memory resources.\n"
   ]
  },
  {
   "cell_type": "markdown",
   "id": "c2a4e310-d448-4d7a-a858-f8d621b201f0",
   "metadata": {},
   "source": [
    "##### 5. Define ndarrays in NumPy and explain their key features. How do they differ from standard Python lists?"
   ]
  },
  {
   "cell_type": "code",
   "execution_count": null,
   "id": "75e9830e-6fa6-4ba9-94b4-d16459fdb692",
   "metadata": {},
   "outputs": [],
   "source": [
    "# ndarrays (N-dimensional arrays) are a core feature of the NumPy library in Python. They are powerful, flexible, and efficient containers for large datasets in scientific computing. Here are their key features:\n",
    "\n",
    "# Multidimensional: ndarrays can have any number of dimensions, allowing for the storage of complex data structures like matrices and tensors.\n",
    "# Homogeneous: All elements in an ndarray must be of the same data type, which ensures consistent and efficient operations.\n",
    "# Fixed Size: Once created, the size of an ndarray cannot be changed. This immutability helps in optimizing performance.\n",
    "# Efficient Memory Usage: ndarrays are stored in contiguous blocks of memory, which makes data access and manipulation very fast.\n",
    "# Vectorized Operations: NumPy supports vectorized operations, which means you can perform element-wise operations on arrays without explicit loops, leading to concise and faster code.\n",
    "# Broadcasting: This feature allows NumPy to perform operations on arrays of different shapes in a flexible way, without needing to copy data.\n",
    "\n",
    "# Differences from Standard Python Lists\n",
    "# Data Type: Python lists can contain elements of different data types, while ndarrays require all elements to be of the same type.\n",
    "# Performance: ndarrays are more memory-efficient and faster for numerical operations due to their contiguous memory layout and support for vectorized operations.\n",
    "# Functionality: NumPy provides a wide range of mathematical functions that operate on ndarrays, which are not available for standard Python lists.\n",
    "# Fixed Size: The size of an ndarray is fixed upon creation, whereas Python lists can dynamically grow and shrink.\n",
    "# Would you like to see more examples or dive deeper into any specific feature?"
   ]
  },
  {
   "cell_type": "markdown",
   "id": "6d9d0705-70e8-40a4-8dc7-e3637bf858c7",
   "metadata": {},
   "source": [
    "##### 6. Analyze the performance benefits of NumPy arrays over Python lists for large-scale numerical operations."
   ]
  },
  {
   "cell_type": "code",
   "execution_count": 10,
   "id": "70dcb447-622f-457e-bf2c-8e21f4f162f6",
   "metadata": {},
   "outputs": [
    {
     "name": "stdout",
     "output_type": "stream",
     "text": [
      "NumPy time: 0.00323 seconds\n",
      "Python list time: 0.07992 seconds\n"
     ]
    }
   ],
   "source": [
    "# 1. Memory Efficiency\n",
    "# Contiguous Memory Layout: NumPy arrays are stored in contiguous blocks of memory, which reduces the overhead associated with memory allocation and access1. This layout allows for faster data retrieval and manipulation compared to Python lists, which store elements as separate objects scattered in memory2.\n",
    "# Homogeneous Data: All elements in a NumPy array are of the same data type, which reduces the memory footprint. Python lists, on the other hand, store type information for each element, leading to higher memory consumption2.\n",
    "# 2. Speed and Performance\n",
    "# Vectorized Operations: NumPy supports vectorized operations, allowing you to perform element-wise operations on entire arrays without explicit loops. This leads to concise and faster code execution2.\n",
    "# Optimized for Numerical Computation: NumPy is implemented in C, and many of its operations are optimized for performance. This results in significant speedups for numerical computations compared to Python lists2.\n",
    "# 3. Broadcasting\n",
    "# Flexible Operations: Broadcasting allows NumPy to perform operations on arrays of different shapes without needing to copy data. This feature simplifies code and improves performance by avoiding unnecessary data duplication2.\n",
    "# 4. Advanced Mathematical Functions\n",
    "# Rich Functionality: NumPy provides a wide range of mathematical and statistical functions that are optimized for performance. These functions operate directly on arrays, making complex numerical computations more efficient2.\n",
    "# Example: Performance Comparison\n",
    "# Here’s a simple example comparing the performance of NumPy arrays and Python lists for a large-scale numerical operation:\n",
    "\n",
    "import time\n",
    "\n",
    "# Creating large arrays and lists\n",
    "size = 10**6\n",
    "numpy_array = np.arange(size)\n",
    "python_list = list(range(size))\n",
    "\n",
    "# NumPy array operation\n",
    "start_time = time.time()\n",
    "numpy_result = numpy_array * 2\n",
    "numpy_time = time.time() - start_time\n",
    "\n",
    "# Python list operation\n",
    "start_time = time.time()\n",
    "python_result = [x * 2 for x in python_list]\n",
    "python_time = time.time() - start_time\n",
    "\n",
    "print(f\"NumPy time: {numpy_time:.5f} seconds\")\n",
    "print(f\"Python list time: {python_time:.5f} seconds\")"
   ]
  },
  {
   "cell_type": "markdown",
   "id": "c7799275-aae9-4fba-9a48-f46357a57932",
   "metadata": {},
   "source": [
    "##### 7. Compare vstack() and hstack() functions in NumPy. Provide examples demonstrating their usage and output."
   ]
  },
  {
   "cell_type": "code",
   "execution_count": 11,
   "id": "b91639cb-978d-4b79-bc18-901c9eb2e108",
   "metadata": {},
   "outputs": [
    {
     "name": "stdout",
     "output_type": "stream",
     "text": [
      "[[1 2 3]\n",
      " [4 5 6]]\n"
     ]
    }
   ],
   "source": [
    "# Comparison of vstack() and hstack() Functions in NumPy\n",
    "# The vstack() and hstack() functions in NumPy are used to stack arrays vertically (row-wise) and horizontally (column-wise), respectively. They allow you to combine multiple arrays into a single array along different axes.\n",
    "\n",
    "# 1. vstack() Function\n",
    "# Purpose: Vertically stacks arrays, meaning it stacks arrays on top of each other along the first axis (rows).\n",
    "# Usage: This function is typically used when you want to combine arrays along the rows.\n",
    "\n",
    "import numpy as np\n",
    "\n",
    "# Create two 1D arrays\n",
    "arr1 = np.array([1, 2, 3])\n",
    "arr2 = np.array([4, 5, 6])\n",
    "\n",
    "# Vertically stack the arrays\n",
    "result_vstack = np.vstack((arr1, arr2))\n",
    "\n",
    "print(result_vstack)\n"
   ]
  },
  {
   "cell_type": "markdown",
   "id": "b423b9c8-307c-485c-b7ff-99d43ec1738f",
   "metadata": {},
   "source": [
    "##### 8. Explain the differences between fliplr() and flipud() methods in NumPy, including their effects on various array dimensions."
   ]
  },
  {
   "cell_type": "code",
   "execution_count": 12,
   "id": "7392fd4b-ff69-4a10-8983-ef84d6f730dc",
   "metadata": {},
   "outputs": [
    {
     "name": "stdout",
     "output_type": "stream",
     "text": [
      "[[3 2 1]\n",
      " [6 5 4]\n",
      " [9 8 7]]\n",
      "[[7 8 9]\n",
      " [4 5 6]\n",
      " [1 2 3]]\n"
     ]
    }
   ],
   "source": [
    "# Differences Between fliplr() and flipud() Methods in NumPy\n",
    "# The fliplr() and flipud() methods in NumPy are used to flip arrays along specific axes. They are particularly useful for reversing the order of elements in 2D arrays, but their effects differ depending on the axis they operate on.\n",
    "\n",
    "# 1. fliplr() Function\n",
    "# Purpose: Flips the array left to right (i.e., reverses the order of columns).\n",
    "# Effect: It mirrors the array along its vertical axis (columns), effectively reversing the order of elements in each row.\n",
    "# Applicable Dimensions: Primarily used for 2D arrays, but can be applied to higher dimensions where the last axis (columns) is flipped.\n",
    "\n",
    "arr = np.array([[1, 2, 3],\n",
    "                [4, 5, 6],\n",
    "                [7, 8, 9]])\n",
    "\n",
    "# Flip left to right\n",
    "result_fliplr = np.fliplr(arr)\n",
    "\n",
    "print(result_fliplr)\n",
    "\n",
    "# 2. flipud() Function\n",
    "# Purpose: Flips the array up to down (i.e., reverses the order of rows).\n",
    "# Effect: It mirrors the array along its horizontal axis (rows), effectively reversing the order of elements in each column.\n",
    "# Applicable Dimensions: Primarily used for 2D arrays, but can be applied to higher dimensions where the first axis (rows) is flipped.\n",
    "\n",
    "arr = np.array([[1, 2, 3],\n",
    "                [4, 5, 6],\n",
    "                [7, 8, 9]])\n",
    "\n",
    "# Flip up to down\n",
    "result_flipud = np.flipud(arr)\n",
    "\n",
    "print(result_flipud)\n",
    "\n"
   ]
  },
  {
   "cell_type": "markdown",
   "id": "0eb6cbef-ca81-4ab9-b26e-6466d2d3e6f6",
   "metadata": {},
   "source": [
    "##### 9. Discuss the functionality of the array_split() method in NumPy. How does it handle uneven splits?"
   ]
  },
  {
   "cell_type": "code",
   "execution_count": 13,
   "id": "dcf8c797-c44d-4798-927b-aeff493b283c",
   "metadata": {},
   "outputs": [
    {
     "name": "stdout",
     "output_type": "stream",
     "text": [
      "[0 1 2]\n",
      "[3 4]\n",
      "[5 6]\n",
      "[7 8]\n"
     ]
    }
   ],
   "source": [
    "# The array_split() method in NumPy is used to split an array into multiple sub-arrays. It is particularly useful when you need to divide an array into sections that may not be of equal size. Here’s a detailed look at its functionality and how it handles uneven splits:\n",
    "\n",
    "# Functionality\n",
    "# Syntax: numpy.array_split(ary, indices_or_sections, axis=0)\n",
    "# ary: The input array to be split.\n",
    "# indices_or_sections: If an integer, it specifies the number of equal or nearly equal sections to split the array into. If a list of sorted integers, it specifies the indices at which to split.\n",
    "# axis: The axis along which to split the array. Default is 0 (along rows).\n",
    "# Handling Uneven Splits\n",
    "# When the array cannot be evenly divided by the specified number of sections, array_split() ensures that the resulting sub-arrays are as equal in size as possible. It does this by distributing the remainder elements across the sub-arrays.\n",
    "\n",
    "# For example, if you have an array of length 9 and you want to split it into 4 parts, array_split() will create sub-arrays of sizes 3, 2, 2, and 2.\n",
    "\n",
    "# Example\n",
    "# Python\n",
    "\n",
    "import numpy as np\n",
    "\n",
    "# Creating an array of length 9\n",
    "array = np.arange(9)\n",
    "\n",
    "# Splitting the array into 4 parts\n",
    "result = np.array_split(array, 4)\n",
    "\n",
    "for sub_array in result:\n",
    "    print(sub_array)"
   ]
  },
  {
   "cell_type": "markdown",
   "id": "996274df-a2f6-449c-96b7-ccb4cf36dd79",
   "metadata": {},
   "source": [
    "##### 10. Explain the concepts of vectorization and broadcasting in NumPy. How do they contribute to efficient array operations?"
   ]
  },
  {
   "cell_type": "code",
   "execution_count": 15,
   "id": "d93bd7f8-8fac-40f1-990c-e67181a12e00",
   "metadata": {},
   "outputs": [
    {
     "name": "stdout",
     "output_type": "stream",
     "text": [
      "[[11 22 33]\n",
      " [14 25 36]]\n"
     ]
    }
   ],
   "source": [
    "# Vectorization\n",
    "# Vectorization in NumPy refers to the process of performing operations on entire arrays without the need for explicit loops. This is achieved by leveraging low-level optimizations in C, which makes the operations much faster compared to traditional Python loops. Here are the key benefits:\n",
    "\n",
    "# Speed: Vectorized operations are significantly faster because they are executed in compiled code rather than interpreted Python code.\n",
    "# Simplicity: Code becomes more concise and easier to read, as complex operations can be expressed in a single line.\n",
    "# Efficiency: Reduces the overhead of Python loops and function calls, leading to better performance.\n",
    "# Example of Vectorization\n",
    "\n",
    "import numpy as np\n",
    "\n",
    "# Creating two large arrays\n",
    "a = np.arange(1000000)\n",
    "b = np.arange(1000000)\n",
    "\n",
    "# Vectorized addition\n",
    "result = a + b\n",
    "\n",
    "# Broadcasting\n",
    "# Broadcasting is a powerful feature in NumPy that allows operations on arrays of different shapes. When performing operations, NumPy automatically expands the smaller array to match the shape of the larger array without making unnecessary copies of data. This enables efficient and flexible array operations.\n",
    "\n",
    "# How Broadcasting Works\n",
    "# Broadcasting follows these rules:\n",
    "\n",
    "# Alignment: NumPy aligns the shapes of the arrays by adding dimensions of size 1 where necessary.\n",
    "# Compatibility: Two dimensions are compatible if they are equal or one of them is 1.\n",
    "# Expansion: The smaller array is virtually expanded to match the shape of the larger array.\n",
    "# Example of Broadcasting\n",
    "\n",
    "import numpy as np\n",
    "\n",
    "# Creating a 2x3 array\n",
    "a = np.array([[1, 2, 3], [4, 5, 6]])\n",
    "\n",
    "# Creating a 1x3 array\n",
    "b = np.array([10, 20, 30])\n",
    "\n",
    "# Broadcasting addition\n",
    "result = a + b\n",
    "\n",
    "print(result)\n",
    "# Output:\n",
    "# [[11 22 33]\n",
    "#  [14 25 36]]\n"
   ]
  },
  {
   "cell_type": "code",
   "execution_count": null,
   "id": "14721f9b-7c59-48cb-8fe0-c085c2875fab",
   "metadata": {},
   "outputs": [],
   "source": []
  }
 ],
 "metadata": {
  "kernelspec": {
   "display_name": "Python 3 (ipykernel)",
   "language": "python",
   "name": "python3"
  },
  "language_info": {
   "codemirror_mode": {
    "name": "ipython",
    "version": 3
   },
   "file_extension": ".py",
   "mimetype": "text/x-python",
   "name": "python",
   "nbconvert_exporter": "python",
   "pygments_lexer": "ipython3",
   "version": "3.10.8"
  }
 },
 "nbformat": 4,
 "nbformat_minor": 5
}
