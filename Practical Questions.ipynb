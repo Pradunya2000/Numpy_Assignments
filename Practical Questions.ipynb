{
 "cells": [
  {
   "cell_type": "markdown",
   "id": "2596f380-02ca-44c6-8b83-a61164088fb6",
   "metadata": {},
   "source": [
    "##### 1. Create a 3x3 NumPy array with random integers between 1 and 100. Then, interchange its rows and columns."
   ]
  },
  {
   "cell_type": "code",
   "execution_count": 1,
   "id": "394ab935-0d6a-42fd-983c-4b158c883f3b",
   "metadata": {},
   "outputs": [
    {
     "name": "stdout",
     "output_type": "stream",
     "text": [
      "Original Array:\n",
      "[[ 61 100  52]\n",
      " [ 23  55  71]\n",
      " [ 47  45  51]]\n",
      "\n",
      "Transposed Array:\n",
      "[[ 61  23  47]\n",
      " [100  55  45]\n",
      " [ 52  71  51]]\n"
     ]
    }
   ],
   "source": [
    "import numpy as np\n",
    "\n",
    "# Create a 3x3 array with random integers between 1 and 100\n",
    "arr = np.random.randint(1, 101, size=(3, 3))\n",
    "print(\"Original Array:\")\n",
    "print(arr)\n",
    "\n",
    "# Interchange rows and columns (transpose the array)\n",
    "transposed_arr = np.transpose(arr)\n",
    "print(\"\\nTransposed Array:\")\n",
    "print(transposed_arr)\n"
   ]
  },
  {
   "cell_type": "markdown",
   "id": "99ce64c9-1f7c-400f-bd06-940807e07f65",
   "metadata": {},
   "source": [
    "##### 2. Generate a 1D NumPy array with 10 elements. Reshape it into a 2x5 array, then into a 5x2 array."
   ]
  },
  {
   "cell_type": "code",
   "execution_count": 2,
   "id": "8c4a1811-4a25-4480-9b81-1df95adfc78f",
   "metadata": {},
   "outputs": [
    {
     "name": "stdout",
     "output_type": "stream",
     "text": [
      "Original 1D Array:\n",
      "[0 1 2 3 4 5 6 7 8 9]\n",
      "\n",
      "Reshaped into 2x5 Array:\n",
      "[[0 1 2 3 4]\n",
      " [5 6 7 8 9]]\n",
      "\n",
      "Reshaped into 5x2 Array:\n",
      "[[0 1]\n",
      " [2 3]\n",
      " [4 5]\n",
      " [6 7]\n",
      " [8 9]]\n"
     ]
    }
   ],
   "source": [
    "import numpy as np\n",
    "\n",
    "# Generate a 1D array with 10 elements\n",
    "arr = np.arange(10)\n",
    "print(\"Original 1D Array:\")\n",
    "print(arr)\n",
    "\n",
    "# Reshape it into a 2x5 array\n",
    "reshaped_2x5 = arr.reshape(2, 5)\n",
    "print(\"\\nReshaped into 2x5 Array:\")\n",
    "print(reshaped_2x5)\n",
    "\n",
    "# Reshape it into a 5x2 array\n",
    "reshaped_5x2 = arr.reshape(5, 2)\n",
    "print(\"\\nReshaped into 5x2 Array:\")\n",
    "print(reshaped_5x2)\n"
   ]
  },
  {
   "cell_type": "markdown",
   "id": "ed47eee6-4359-4218-a40b-748645677a8a",
   "metadata": {},
   "source": [
    "##### 3. Create a 4x4 NumPy array with random float values. Add a border of zeros around it, resulting in a 6x6 array."
   ]
  },
  {
   "cell_type": "code",
   "execution_count": 3,
   "id": "6a63c67f-bdc0-4433-9ae3-a36cf7f72d9d",
   "metadata": {},
   "outputs": [
    {
     "name": "stdout",
     "output_type": "stream",
     "text": [
      "Original 4x4 Array:\n",
      "[[6.83962311e-01 2.57498396e-04 2.62823638e-01 7.97067677e-02]\n",
      " [9.32906690e-01 5.59318045e-01 2.97725949e-01 2.09737876e-01]\n",
      " [4.86703950e-01 3.74771234e-01 6.87884984e-01 1.40378174e-01]\n",
      " [4.91459010e-01 2.53696634e-01 4.10461583e-01 6.77666026e-01]]\n",
      "\n",
      "Array with Border (6x6 Array):\n",
      "[[0.00000000e+00 0.00000000e+00 0.00000000e+00 0.00000000e+00\n",
      "  0.00000000e+00 0.00000000e+00]\n",
      " [0.00000000e+00 6.83962311e-01 2.57498396e-04 2.62823638e-01\n",
      "  7.97067677e-02 0.00000000e+00]\n",
      " [0.00000000e+00 9.32906690e-01 5.59318045e-01 2.97725949e-01\n",
      "  2.09737876e-01 0.00000000e+00]\n",
      " [0.00000000e+00 4.86703950e-01 3.74771234e-01 6.87884984e-01\n",
      "  1.40378174e-01 0.00000000e+00]\n",
      " [0.00000000e+00 4.91459010e-01 2.53696634e-01 4.10461583e-01\n",
      "  6.77666026e-01 0.00000000e+00]\n",
      " [0.00000000e+00 0.00000000e+00 0.00000000e+00 0.00000000e+00\n",
      "  0.00000000e+00 0.00000000e+00]]\n"
     ]
    }
   ],
   "source": [
    "import numpy as np\n",
    "\n",
    "# Create a 4x4 array with random float values\n",
    "arr = np.random.rand(4, 4)\n",
    "print(\"Original 4x4 Array:\")\n",
    "print(arr)\n",
    "\n",
    "# Add a border of zeros around the array (resulting in a 6x6 array)\n",
    "arr_with_border = np.pad(arr, pad_width=1, mode='constant', constant_values=0)\n",
    "print(\"\\nArray with Border (6x6 Array):\")\n",
    "print(arr_with_border)\n"
   ]
  },
  {
   "cell_type": "markdown",
   "id": "011ab31f-0a09-46e8-a3b2-2d52cce9e1f3",
   "metadata": {},
   "source": [
    "##### 4. Using NumPy, create an array of integers from 10 to 60 with a step of 5."
   ]
  },
  {
   "cell_type": "code",
   "execution_count": 4,
   "id": "9c8fa019-88dc-4427-b047-73f25bd46251",
   "metadata": {},
   "outputs": [
    {
     "name": "stdout",
     "output_type": "stream",
     "text": [
      "Array with integers from 10 to 60 with a step of 5:\n",
      "[10 15 20 25 30 35 40 45 50 55 60]\n"
     ]
    }
   ],
   "source": [
    "import numpy as np\n",
    "\n",
    "# Create an array of integers from 10 to 60 with a step of 5\n",
    "arr = np.arange(10, 61, 5)\n",
    "print(\"Array with integers from 10 to 60 with a step of 5:\")\n",
    "print(arr)\n"
   ]
  },
  {
   "cell_type": "markdown",
   "id": "e0a02748-7e01-47de-86fc-9e2008a806d4",
   "metadata": {},
   "source": [
    "##### 5. Create a NumPy array of strings ['python', 'numpy', 'pandas']. Apply different case transformations (uppercase, lowercase, title case, etc.) to each element."
   ]
  },
  {
   "cell_type": "code",
   "execution_count": 5,
   "id": "7f22e45c-a30c-4da7-b5d7-2c7fdf412e22",
   "metadata": {},
   "outputs": [
    {
     "name": "stdout",
     "output_type": "stream",
     "text": [
      "Original array:\n",
      "['python' 'numpy' 'pandas']\n",
      "\n",
      "Uppercase array:\n",
      "['PYTHON' 'NUMPY' 'PANDAS']\n",
      "\n",
      "Lowercase array:\n",
      "['python' 'numpy' 'pandas']\n",
      "\n",
      "Titlecase array:\n",
      "['Python' 'Numpy' 'Pandas']\n",
      "\n",
      "Swapcase array:\n",
      "['PYTHON' 'NUMPY' 'PANDAS']\n"
     ]
    }
   ],
   "source": [
    "import numpy as np\n",
    "\n",
    "# Creating a NumPy array of strings\n",
    "array = np.array(['python', 'numpy', 'pandas'])\n",
    "\n",
    "# Applying different case transformations\n",
    "uppercase_array = np.char.upper(array)\n",
    "lowercase_array = np.char.lower(array)\n",
    "titlecase_array = np.char.title(array)\n",
    "swapcase_array = np.char.swapcase(array)\n",
    "\n",
    "print(\"Original array:\")\n",
    "print(array)\n",
    "\n",
    "print(\"\\nUppercase array:\")\n",
    "print(uppercase_array)\n",
    "\n",
    "print(\"\\nLowercase array:\")\n",
    "print(lowercase_array)\n",
    "\n",
    "print(\"\\nTitlecase array:\")\n",
    "print(titlecase_array)\n",
    "\n",
    "print(\"\\nSwapcase array:\")\n",
    "print(swapcase_array)\n"
   ]
  },
  {
   "cell_type": "markdown",
   "id": "80769f76-f032-405c-8788-bf6c4db6f518",
   "metadata": {},
   "source": [
    "##### 6. Generate a NumPy array of words. Insert a space between each character of every word in the array."
   ]
  },
  {
   "cell_type": "code",
   "execution_count": 6,
   "id": "18516a53-af2b-4b73-9849-dcdcee5a77c5",
   "metadata": {},
   "outputs": [
    {
     "name": "stdout",
     "output_type": "stream",
     "text": [
      "Original array:\n",
      "['python' 'numpy' 'pandas']\n",
      "\n",
      "Array with spaces between characters:\n",
      "['p y t h o n' 'n u m p y' 'p a n d a s']\n"
     ]
    }
   ],
   "source": [
    "import numpy as np\n",
    "\n",
    "# Creating a NumPy array of words\n",
    "words = np.array(['python', 'numpy', 'pandas'])\n",
    "\n",
    "# Function to insert spaces between characters\n",
    "def insert_spaces(word):\n",
    "    return ' '.join(list(word))\n",
    "\n",
    "# Applying the function to each element in the array\n",
    "spaced_words = np.vectorize(insert_spaces)(words)\n",
    "\n",
    "print(\"Original array:\")\n",
    "print(words)\n",
    "\n",
    "print(\"\\nArray with spaces between characters:\")\n",
    "print(spaced_words)\n"
   ]
  },
  {
   "cell_type": "markdown",
   "id": "dce95772-857e-4208-a0dd-04e3a6fbd90e",
   "metadata": {},
   "source": [
    "##### 7. Create two 2D NumPy arrays and perform element-wise addition, subtraction, multiplication, and division."
   ]
  },
  {
   "cell_type": "code",
   "execution_count": 7,
   "id": "32611254-fe74-4c6a-8ec7-f0c0afb895bc",
   "metadata": {},
   "outputs": [
    {
     "name": "stdout",
     "output_type": "stream",
     "text": [
      "Array 1:\n",
      "[[1 2 3]\n",
      " [4 5 6]\n",
      " [7 8 9]]\n",
      "\n",
      "Array 2:\n",
      "[[9 8 7]\n",
      " [6 5 4]\n",
      " [3 2 1]]\n",
      "\n",
      "Element-wise Addition:\n",
      "[[10 10 10]\n",
      " [10 10 10]\n",
      " [10 10 10]]\n",
      "\n",
      "Element-wise Subtraction:\n",
      "[[-8 -6 -4]\n",
      " [-2  0  2]\n",
      " [ 4  6  8]]\n",
      "\n",
      "Element-wise Multiplication:\n",
      "[[ 9 16 21]\n",
      " [24 25 24]\n",
      " [21 16  9]]\n",
      "\n",
      "Element-wise Division:\n",
      "[[0.11111111 0.25       0.42857143]\n",
      " [0.66666667 1.         1.5       ]\n",
      " [2.33333333 4.         9.        ]]\n"
     ]
    }
   ],
   "source": [
    "import numpy as np\n",
    "\n",
    "# Creating two 2D NumPy arrays\n",
    "array1 = np.array([[1, 2, 3], [4, 5, 6], [7, 8, 9]])\n",
    "array2 = np.array([[9, 8, 7], [6, 5, 4], [3, 2, 1]])\n",
    "\n",
    "# Element-wise addition\n",
    "addition = np.add(array1, array2)\n",
    "\n",
    "# Element-wise subtraction\n",
    "subtraction = np.subtract(array1, array2)\n",
    "\n",
    "# Element-wise multiplication\n",
    "multiplication = np.multiply(array1, array2)\n",
    "\n",
    "# Element-wise division\n",
    "division = np.divide(array1, array2)\n",
    "\n",
    "print(\"Array 1:\")\n",
    "print(array1)\n",
    "\n",
    "print(\"\\nArray 2:\")\n",
    "print(array2)\n",
    "\n",
    "print(\"\\nElement-wise Addition:\")\n",
    "print(addition)\n",
    "\n",
    "print(\"\\nElement-wise Subtraction:\")\n",
    "print(subtraction)\n",
    "\n",
    "print(\"\\nElement-wise Multiplication:\")\n",
    "print(multiplication)\n",
    "\n",
    "print(\"\\nElement-wise Division:\")\n",
    "print(division)\n"
   ]
  },
  {
   "cell_type": "markdown",
   "id": "da95a006-c6d5-468b-a8ab-8488b2bb6d96",
   "metadata": {},
   "source": [
    "##### 8. Use NumPy to create a 5x5 identity matrix, then extract its diagonal elements."
   ]
  },
  {
   "cell_type": "code",
   "execution_count": 8,
   "id": "3023ef65-446c-4c6a-98e8-850de0490c18",
   "metadata": {},
   "outputs": [
    {
     "name": "stdout",
     "output_type": "stream",
     "text": [
      "Identity Matrix:\n",
      "[[1. 0. 0. 0. 0.]\n",
      " [0. 1. 0. 0. 0.]\n",
      " [0. 0. 1. 0. 0.]\n",
      " [0. 0. 0. 1. 0.]\n",
      " [0. 0. 0. 0. 1.]]\n",
      "\n",
      "Diagonal Elements:\n",
      "[1. 1. 1. 1. 1.]\n"
     ]
    }
   ],
   "source": [
    "import numpy as np\n",
    "\n",
    "# Creating a 5x5 identity matrix\n",
    "identity_matrix = np.identity(5)\n",
    "\n",
    "print(\"Identity Matrix:\")\n",
    "print(identity_matrix)\n",
    "\n",
    "# Extracting the diagonal elements\n",
    "diagonal_elements = np.diag(identity_matrix)\n",
    "\n",
    "print(\"\\nDiagonal Elements:\")\n",
    "print(diagonal_elements)\n"
   ]
  },
  {
   "cell_type": "markdown",
   "id": "3d3e2968-f0a3-4134-8d48-3e3d64d4dfe3",
   "metadata": {},
   "source": [
    "##### 9. Generate a NumPy array of 100 random integers between 0 and 1000. Find and display all prime numbers in this array."
   ]
  },
  {
   "cell_type": "code",
   "execution_count": 9,
   "id": "2b9e6dd0-6bcd-4d26-beeb-5b63314b8927",
   "metadata": {},
   "outputs": [
    {
     "name": "stdout",
     "output_type": "stream",
     "text": [
      "Array of random integers:\n",
      "[737 247 463 600 573 636 446 957 437 472 413 229 671 706  69 737 140 908\n",
      " 647 162 469 480 880 886 851 901 303 873 392 844  67 178 519 830 996 883\n",
      " 410 573 681 313 938 414 939 379 401 266 825  77 154 270 465 283 244 818\n",
      " 630  40 207 110 254 828 193 947 936 345 399 910 961  77 436 863 251 160\n",
      " 101 646 902 705 414 278 760 196 337 837 427 720  10  56 584 586 725  66\n",
      " 643 149 472  21  53 931 378 587 555 941]\n",
      "\n",
      "Prime numbers in the array:\n",
      "[463 229 647  67 883 313 379 401 283 193 947 863 251 101 337 643 149  53\n",
      " 587 941]\n"
     ]
    }
   ],
   "source": [
    "import numpy as np\n",
    "\n",
    "# Function to check if a number is prime\n",
    "def is_prime(n):\n",
    "    if n <= 1:\n",
    "        return False\n",
    "    if n <= 3:\n",
    "        return True\n",
    "    if n % 2 == 0 or n % 3 == 0:\n",
    "        return False\n",
    "    i = 5\n",
    "    while i * i <= n:\n",
    "        if n % i == 0 or n % (i + 2) == 0:\n",
    "            return False\n",
    "        i += 6\n",
    "    return True\n",
    "\n",
    "# Generate an array of 100 random integers between 0 and 1000\n",
    "arr = np.random.randint(0, 1001, size=100)\n",
    "print(\"Array of random integers:\")\n",
    "print(arr)\n",
    "\n",
    "# Find all prime numbers in the array\n",
    "primes = np.array([num for num in arr if is_prime(num)])\n",
    "\n",
    "print(\"\\nPrime numbers in the array:\")\n",
    "print(primes)\n"
   ]
  },
  {
   "cell_type": "markdown",
   "id": "fbaf9b15-e4e9-4bf7-9c8e-ea0066f95932",
   "metadata": {},
   "source": [
    "##### 10. Create a NumPy array representing daily temperatures for a month. Calculate and display the weekly averages."
   ]
  },
  {
   "cell_type": "code",
   "execution_count": null,
   "id": "f42d7a6f-ac2e-467f-b975-bf83a5f35fe5",
   "metadata": {},
   "outputs": [],
   "source": [
    "import numpy as np\n",
    "\n",
    "# Generating a NumPy array of daily temperatures for a month (30 days)\n",
    "daily_temperatures = np.random.randint(20, 40, size=30)  # Random temperatures between 20°C and 40°C\n",
    "\n",
    "print(\"Daily Temperatures:\")\n",
    "print(daily_temperatures)\n",
    "\n",
    "# Calculating weekly averages\n",
    "weekly_averages = [np.mean(daily_temperatures[i:i+7]) for i in range(0, len(daily_temperatures), 7)]\n",
    "\n",
    "print(\"\\nWeekly Averages:\")\n",
    "print(weekly_averages)"
   ]
  },
  {
   "cell_type": "code",
   "execution_count": null,
   "id": "2f94fb23-d0cf-4202-80d3-fd63c3c22ed2",
   "metadata": {},
   "outputs": [],
   "source": []
  },
  {
   "cell_type": "code",
   "execution_count": null,
   "id": "129b30b1-4cef-4e91-a9a2-2ace2911c707",
   "metadata": {},
   "outputs": [],
   "source": []
  }
 ],
 "metadata": {
  "kernelspec": {
   "display_name": "Python 3 (ipykernel)",
   "language": "python",
   "name": "python3"
  },
  "language_info": {
   "codemirror_mode": {
    "name": "ipython",
    "version": 3
   },
   "file_extension": ".py",
   "mimetype": "text/x-python",
   "name": "python",
   "nbconvert_exporter": "python",
   "pygments_lexer": "ipython3",
   "version": "3.10.8"
  }
 },
 "nbformat": 4,
 "nbformat_minor": 5
}
